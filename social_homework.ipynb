{
 "cells": [
  {
   "cell_type": "code",
   "execution_count": 1,
   "metadata": {},
   "outputs": [],
   "source": [
    "# Dependencies\n",
    "import tweepy\n",
    "import numpy as np\n",
    "import pandas as pd\n",
    "from datetime import datetime\n",
    "import matplotlib.pyplot as plt\n",
    "from config import consumer_key, consumer_secret, access_token, access_token_secret\n",
    "from vaderSentiment.vaderSentiment import SentimentIntensityAnalyzer\n",
    "\n",
    "# shorten analyzer call\n",
    "analyzer = SentimentIntensityAnalyzer()\n",
    "\n",
    "# establish twitter api with tweepy\n",
    "auth = tweepy.OAuthHandler(consumer_key, consumer_secret)\n",
    "auth.set_access_token(access_token, access_token_secret)\n",
    "api = tweepy.API(auth, parser=tweepy.parsers.JSONParser())\n",
    "\n",
    "# define targets\n",
    "target_terms = (\"@CNN\",\"@BBCnews\",\"@CBSnews\",\"@FOXnews\",\"@nytimes\")\n",
    "\n",
    "# define counter\n",
    "counter = 1\n",
    "\n",
    "# create varible for sentiments\n",
    "sentiments = []\n",
    "\n",
    "# loop through each target\n",
    "for target in target_terms:\n",
    "    \n",
    "    # reset counter at beginning of each targer\n",
    "    counter=1\n",
    "\n",
    "    # get 100 tweets from the target\n",
    "    public_tweets = api.user_timeline(target, count=100)\n",
    "\n",
    "    # loop through all tweets \n",
    "    for tweet in public_tweets:\n",
    "\n",
    "        # Run Vader Analysis on each tweet\n",
    "        results = analyzer.polarity_scores(tweet[\"text\"])\n",
    "        compound = results[\"compound\"]\n",
    "        pos = results[\"pos\"]\n",
    "        neu = results[\"neu\"]\n",
    "        neg = results[\"neg\"]\n",
    "        tweets_ago = counter\n",
    "\n",
    "        # Add channel and sentiments for each tweet into a list\n",
    "        sentiments.append({\"Channel\" : target,\n",
    "                           \"Date\": tweet[\"created_at\"], \n",
    "                           \"Compound\": compound,\n",
    "                           \"Positive\": pos,\n",
    "                           \"Negative\": neu,\n",
    "                           \"Neutral\": neg,\n",
    "                           \"Tweets Ago\": counter})\n",
    "\n",
    "        # Add to counter \n",
    "        counter += 1"
   ]
  },
  {
   "cell_type": "code",
   "execution_count": 2,
   "metadata": {},
   "outputs": [
    {
     "data": {
      "text/html": [
       "<div>\n",
       "<style scoped>\n",
       "    .dataframe tbody tr th:only-of-type {\n",
       "        vertical-align: middle;\n",
       "    }\n",
       "\n",
       "    .dataframe tbody tr th {\n",
       "        vertical-align: top;\n",
       "    }\n",
       "\n",
       "    .dataframe thead th {\n",
       "        text-align: right;\n",
       "    }\n",
       "</style>\n",
       "<table border=\"1\" class=\"dataframe\">\n",
       "  <thead>\n",
       "    <tr style=\"text-align: right;\">\n",
       "      <th></th>\n",
       "      <th>Compound</th>\n",
       "      <th>Date</th>\n",
       "      <th>Negative</th>\n",
       "      <th>Neutral</th>\n",
       "      <th>Positive</th>\n",
       "      <th>Tweets Ago</th>\n",
       "    </tr>\n",
       "    <tr>\n",
       "      <th>Channel</th>\n",
       "      <th></th>\n",
       "      <th></th>\n",
       "      <th></th>\n",
       "      <th></th>\n",
       "      <th></th>\n",
       "      <th></th>\n",
       "    </tr>\n",
       "  </thead>\n",
       "  <tbody>\n",
       "    <tr>\n",
       "      <th>@CNN</th>\n",
       "      <td>0.00</td>\n",
       "      <td>Wed Apr 11 05:01:08 +0000 2018</td>\n",
       "      <td>1.00</td>\n",
       "      <td>0.00</td>\n",
       "      <td>0.0</td>\n",
       "      <td>1</td>\n",
       "    </tr>\n",
       "    <tr>\n",
       "      <th>@CNN</th>\n",
       "      <td>-0.34</td>\n",
       "      <td>Wed Apr 11 04:46:04 +0000 2018</td>\n",
       "      <td>0.87</td>\n",
       "      <td>0.13</td>\n",
       "      <td>0.0</td>\n",
       "      <td>2</td>\n",
       "    </tr>\n",
       "  </tbody>\n",
       "</table>\n",
       "</div>"
      ],
      "text/plain": [
       "         Compound                            Date  Negative  Neutral  \\\n",
       "Channel                                                                \n",
       "@CNN         0.00  Wed Apr 11 05:01:08 +0000 2018      1.00     0.00   \n",
       "@CNN        -0.34  Wed Apr 11 04:46:04 +0000 2018      0.87     0.13   \n",
       "\n",
       "         Positive  Tweets Ago  \n",
       "Channel                        \n",
       "@CNN          0.0           1  \n",
       "@CNN          0.0           2  "
      ]
     },
     "execution_count": 2,
     "metadata": {},
     "output_type": "execute_result"
    }
   ],
   "source": [
    "# move data into dataframe for easier manipulation\n",
    "sentiments_df = pd.DataFrame.from_dict(sentiments).set_index(\"Channel\")\n",
    "sentiments_df.head(2)"
   ]
  },
  {
   "cell_type": "code",
   "execution_count": 3,
   "metadata": {},
   "outputs": [
    {
     "data": {
      "text/plain": [
       "Text(0.5,0,'Tweets Ago')"
      ]
     },
     "execution_count": 3,
     "metadata": {},
     "output_type": "execute_result"
    },
    {
     "data": {
      "image/png": "[encoded data removed]",
      "text/plain": [
       "<matplotlib.figure.Figure at 0x2a0c4b01390>"
      ]
     },
     "metadata": {},
     "output_type": "display_data"
    }
   ],
   "source": [
    "# create dataframe for each news channel\n",
    "cnn_df = sentiments_df.filter(like='CNN', axis=0)\n",
    "fox_df = sentiments_df.filter(like='FOX', axis=0)\n",
    "cbs_df = sentiments_df.filter(like='CBS', axis=0)\n",
    "ny_df = sentiments_df.filter(like='nytimes', axis=0)\n",
    "bbc_df = sentiments_df.filter(like='BBC', axis=0)\n",
    "\n",
    "\n",
    "# establish x and y axis for each news channel\n",
    "cnn_x = cnn_df[\"Tweets Ago\"]\n",
    "cnn_y = cnn_df[\"Compound\"]\n",
    "fox_x = fox_df[\"Tweets Ago\"]\n",
    "fox_y = fox_df[\"Compound\"]\n",
    "cbs_x = cbs_df[\"Tweets Ago\"]\n",
    "cbs_y = cbs_df[\"Compound\"]\n",
    "ny_x = ny_df[\"Tweets Ago\"]\n",
    "ny_y = ny_df[\"Compound\"]\n",
    "bbc_x = bbc_df[\"Tweets Ago\"]\n",
    "bbc_y = bbc_df[\"Compound\"]\n",
    "\n",
    "# plot the data\n",
    "cnn = plt.scatter(cnn_x-100, cnn_y, marker=\"o\", alpha=0.75, facecolors=\"blue\", edgecolors=\"black\", label=\"CNN\")\n",
    "fox = plt.scatter(fox_x-100, fox_y, marker=\"o\", alpha=0.75, facecolors=\"red\", edgecolors=\"black\", label=\"FOX\")\n",
    "cbs = plt.scatter(cbs_x-100, cbs_y, marker=\"o\", alpha=0.75, facecolors=\"yellow\", edgecolors=\"black\", label=\"CBS\")\n",
    "ny = plt.scatter(ny_x-100, ny_y, marker=\"o\", alpha=0.75, facecolors=\"green\", edgecolors=\"black\", label=\"NYtimes\")\n",
    "bbc = plt.scatter(bbc_x-100, bbc_y, marker=\"o\", alpha=0.75, facecolors=\"purple\", edgecolors=\"black\", label=\"BBC\")\n",
    "\n",
    "# plot legend outside of plot\n",
    "plt.legend(bbox_to_anchor=(1.05, 1), loc=2, borderaxespad=0.)\n",
    "\n",
    "# assign titles\n",
    "plt.title(\"Sentiment Analysis of Media Tweets\")\n",
    "plt.ylabel(\"Tweet Polarity\")\n",
    "plt.xlabel(\"Tweets Ago\")"
   ]
  },
  {
   "cell_type": "code",
   "execution_count": 4,
   "metadata": {},
   "outputs": [
    {
     "data": {
      "text/plain": [
       "Compound       0.002879\n",
       "Negative       0.871640\n",
       "Neutral        0.064080\n",
       "Positive       0.064290\n",
       "Tweets Ago    50.500000\n",
       "dtype: float64"
      ]
     },
     "execution_count": 4,
     "metadata": {},
     "output_type": "execute_result"
    }
   ],
   "source": [
    "cnn_df.mean()"
   ]
  },
  {
   "cell_type": "code",
   "execution_count": 5,
   "metadata": {},
   "outputs": [
    {
     "data": {
      "text/plain": [
       "Compound       0.06723\n",
       "Negative       0.82488\n",
       "Neutral        0.07664\n",
       "Positive       0.09847\n",
       "Tweets Ago    50.50000\n",
       "dtype: float64"
      ]
     },
     "execution_count": 5,
     "metadata": {},
     "output_type": "execute_result"
    }
   ],
   "source": [
    "fox_df.mean()"
   ]
  },
  {
   "cell_type": "code",
   "execution_count": 6,
   "metadata": {},
   "outputs": [
    {
     "data": {
      "text/plain": [
       "Compound       0.057344\n",
       "Negative       0.880730\n",
       "Neutral        0.049900\n",
       "Positive       0.069360\n",
       "Tweets Ago    50.500000\n",
       "dtype: float64"
      ]
     },
     "execution_count": 6,
     "metadata": {},
     "output_type": "execute_result"
    }
   ],
   "source": [
    "cbs_df.mean()"
   ]
  },
  {
   "cell_type": "code",
   "execution_count": 7,
   "metadata": {},
   "outputs": [
    {
     "data": {
      "text/plain": [
       "Compound      -0.08546\n",
       "Negative       0.81307\n",
       "Neutral        0.11905\n",
       "Positive       0.06790\n",
       "Tweets Ago    50.50000\n",
       "dtype: float64"
      ]
     },
     "execution_count": 7,
     "metadata": {},
     "output_type": "execute_result"
    }
   ],
   "source": [
    "bbc_df.mean()"
   ]
  },
  {
   "cell_type": "code",
   "execution_count": 10,
   "metadata": {},
   "outputs": [
    {
     "data": {
      "text/plain": [
       "Compound      -0.009909\n",
       "Negative       0.877550\n",
       "Neutral        0.057990\n",
       "Positive       0.064480\n",
       "Tweets Ago    50.500000\n",
       "dtype: float64"
      ]
     },
     "execution_count": 10,
     "metadata": {},
     "output_type": "execute_result"
    }
   ],
   "source": [
    "ny_df.mean()"
   ]
  },
  {
   "cell_type": "code",
   "execution_count": null,
   "metadata": {},
   "outputs": [],
   "source": []
  }
 ],
 "metadata": {
  "kernelspec": {
   "display_name": "Python 3",
   "language": "python",
   "name": "python3"
  },
  "language_info": {
   "codemirror_mode": {
    "name": "ipython",
    "version": 3
   },
   "file_extension": ".py",
   "mimetype": "text/x-python",
   "name": "python",
   "nbconvert_exporter": "python",
   "pygments_lexer": "ipython3",
   "version": "3.6.4"
  }
 },
 "nbformat": 4,
 "nbformat_minor": 2
}
